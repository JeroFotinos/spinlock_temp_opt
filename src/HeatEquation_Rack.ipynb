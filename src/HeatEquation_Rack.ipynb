{
 "cells": [
  {
   "cell_type": "markdown",
   "id": "ff5d1ace-feb7-4f31-b6d6-2c8d75e63f69",
   "metadata": {},
   "source": [
    "# Physical Environment Simulation\n",
    "\n",
    "This script simulates the **heat equation** in a simplified rack geometry using the **Gridap.jl** library and the **finite element method (FEM)**.\n",
    "\n",
    "## 1. The Heat Equation\n",
    "\n",
    "The heat equation models how temperature evolves in a medium over time due to conduction. The standard form in three dimensions is:\n",
    "\n",
    "$\n",
    "\\frac{\\partial u}{\\partial t} - \\nabla \\cdot (\\alpha \\nabla u) = f \\quad \\text{in } \\Omega \\times (0, T)\n",
    "$\n",
    " where $ u(\\mathbf{x}, t) $ istemperature at point $\\mathbf{x}$ and time $t$, $ \\alpha $ is the thermal diffusivity (may vary in time or space), $ f $ is the internal heat source , $ \\Omega $ is the spatial domain  and $ T $ is the  final time.\n",
    "\n",
    "## 2. Boundary and Initial Conditions\n",
    "\n",
    "To solve the heat equation, we specify:\n",
    "\n",
    "- **Initial condition**: This sets the temperature distribution at the beginning of the simulation\n",
    "\n",
    "    $\n",
    "      u(\\mathbf{x}, 0) = u_0(\\mathbf{x}) \\quad \\text{in } \\Omega\n",
    "    $\n",
    "  \n",
    "- **Boundary conditions** : that define how the system interacts with its surroundings along the boundary $ \\partial\\Omega $ Common types include:\n",
    "\n",
    "    -  Dirichlet Boundary Condition: this specifies a **fixed temperature** on part of the boundary\n",
    "        $\n",
    "    u(\\mathbf{x}, t) = g_D(\\mathbf{x}, t) \\quad \\text{on } \\Gamma_D \\subset \\partial\\Omega\n",
    "        $\n",
    "    - Neumann Boundary Condition : specifies a **heat flux** across the boundary:\n",
    "\n",
    "        $\n",
    "    -\\alpha \\frac{\\partial u}{\\partial n} = q_N(\\mathbf{x}, t) \\quad \\text{on } \\Gamma_N \\subset \\partial\\Omega\n",
    "        $\n",
    "\n",
    "    Where $ \\partial u / \\partial n $ is the derivative in the direction normal to the boundary and $ q_N $ is the         prescribed heat flux (positive means entering the domain).\n",
    "\n",
    "    This condition arises naturally in the weak form (as surface integrals) and is often used to model heat                 sources/sinks and insulated boundaries (if $ q_N = 0 $)\n",
    "\n",
    "  -  Robin Boundary Condition (Convective Exchange) this models **convection** between the body and a surrounding            medium (like air):\n",
    "\n",
    "    $\n",
    "    -\\alpha \\frac{\\partial u}{\\partial n} = h(u - T_{\\infty}) \\quad \\text{on } \\Gamma_{\\text{ext}} \\subset \\partial\\Omega\n",
    "    $\n",
    "\n",
    "    Where $ h $ is the convection heat transfer coefficient and $ T_{\\infty} $ is the ambient temperature (air, fluid,      etc.).\n",
    "     This combines a Neumann-like flux with a temperature difference — commonly used for heat exchange with the              environment.\n",
    "\n",
    "  \n",
    "## 3. . Weak Formulation for FEM\n",
    "\n",
    "To apply the Finite Element Method (FEM), we multiply the heat equation by a test function \\( v \\) and integrate over the domain \\( \\Omega \\). This gives the **weak (variational) formulation**:\n",
    "\n",
    "Find $ u(t) \\in V $ such that for all $ v \\in V $:\n",
    "\n",
    "$\n",
    "\\int_{\\Omega} \\frac{\\partial u}{\\partial t} \\, v \\, d\\Omega + \\int_{\\Omega} \\alpha(t) \\nabla u \\cdot \\nabla v \\, d\\Omega = \\int_{\\Omega} f \\, v \\, d\\Omega\n",
    "$\n",
    "\n",
    "Where:\n",
    "- $ V $ is a suitable function space (e.g., $ H^1(\\Omega) $) that satisfies the boundary conditions.\n",
    "- The first term accounts for the **transient (time-dependent)** behavior.\n",
    "- The second term represents **diffusion** (heat conduction).\n",
    "- The right-hand side can include **internal heat sources** or be extended to include boundary integrals depending on the type of boundary conditions applied.\n",
    "\n",
    "This weak form is the basis for constructing the finite element discretization."
   ]
  },
  {
   "cell_type": "code",
   "execution_count": 16,
   "id": "38bda21d-876b-45b9-87e7-1164faa7c9d7",
   "metadata": {},
   "outputs": [],
   "source": [
    "using Gridap\n",
    "using Gridap.FESpaces\n",
    "using GridapGmsh\n",
    "using Gridap.CellData"
   ]
  },
  {
   "cell_type": "markdown",
   "id": "0c05b1bb-896a-4abf-8e4a-e949fc49b462",
   "metadata": {},
   "source": [
    "In this case, the computational domains represent simplified rack structures, modeled as homogeneous (single-material) boxes. The heat sources, ie the resistors, are modeled as regions excluded from the domain. These regions impose a prescribed heat flux across the adjacent boundaries of the computational domain. \n",
    "\n",
    "The mesh rack_box_placa.msh includes a single heat source represented as a thin plate that spans nearly the entire rack, simulating a planar array of resistive elements. In contrast, the mesh rack2_box_2.msh contains two thinner heat-emitting plates. These configurations allow for the evaluation of different resistor geometries and their impact on the resulting temperature distribution in a straightforward yet effective manner.\n",
    "\n",
    "The position of the plates reflects the actual location of the resistive components in the physical rack. Additionally, the dimensions of the computational domain match the real-world dimensions of the rack.\n",
    "\n"
   ]
  },
  {
   "cell_type": "code",
   "execution_count": 29,
   "id": "f786ec5e-8fd3-4c99-834b-1ad182f2a3a5",
   "metadata": {},
   "outputs": [
    {
     "name": "stdout",
     "output_type": "stream",
     "text": [
      "Info    : Reading 'rack_box_placa.msh'...\n",
      "Info    : 53 entities\n",
      "Info    : 2672 nodes\n",
      "Info    : 14432 elements\n",
      "Info    : Done reading 'rack_box_placa.msh'\n"
     ]
    },
    {
     "data": {
      "text/plain": [
       "UnstructuredDiscreteModel()"
      ]
     },
     "execution_count": 29,
     "metadata": {},
     "output_type": "execute_result"
    }
   ],
   "source": [
    "model = GmshDiscreteModel(\"rack_box_placa.msh\")\n",
    "# rack2_box_2.msh "
   ]
  },
  {
   "cell_type": "code",
   "execution_count": 18,
   "id": "bcc24432-7021-4446-b007-99cb89225961",
   "metadata": {},
   "outputs": [
    {
     "data": {
      "text/plain": [
       "GenericMeasure()"
      ]
     },
     "execution_count": 18,
     "metadata": {},
     "output_type": "execute_result"
    }
   ],
   "source": [
    "Ω  = Triangulation(model)\n",
    "dΩ = Measure(Ω,2)"
   ]
  },
  {
   "cell_type": "markdown",
   "id": "099d3c7e-50af-4dbc-a070-53ed9b94b1d0",
   "metadata": {},
   "source": [
    "This notebook applies Dirichlet boundary conditions on the external faces of the domain, representing a fixed temperature corresponding to the ambient laboratory temperature. In the vicinity of the heat sources, Neumann boundary conditions are imposed to model the injection of thermal flux into the system."
   ]
  },
  {
   "cell_type": "code",
   "execution_count": 19,
   "id": "3343f3b2-f05d-45b4-b306-3cd215f36658",
   "metadata": {},
   "outputs": [
    {
     "data": {
      "text/plain": [
       "UnconstrainedFESpace()"
      ]
     },
     "execution_count": 19,
     "metadata": {},
     "output_type": "execute_result"
    }
   ],
   "source": [
    "reffe = ReferenceFE(lagrangian,Float64,1)\n",
    "V = TestFESpace(model,reffe,dirichlet_tags=\"ext\")"
   ]
  },
  {
   "cell_type": "code",
   "execution_count": 20,
   "id": "b2c2f13e-9a90-4532-969a-cc9838ffd21b",
   "metadata": {},
   "outputs": [
    {
     "data": {
      "text/plain": [
       "GenericMeasure()"
      ]
     },
     "execution_count": 20,
     "metadata": {},
     "output_type": "execute_result"
    }
   ],
   "source": [
    "Γ_source_up = BoundaryTriangulation(model,tags=\"fuente_up\")\n",
    "dΓ_souce_up= Measure(Γ_source_up,2)\n",
    "\n",
    "Γ_source_down = BoundaryTriangulation(model,tags=\"fuente_down\")\n",
    "dΓ_souce_down= Measure(Γ_source_down,2)\n",
    "\n",
    "Γ_source_y0 = BoundaryTriangulation(model,tags=\"fuente_y0\")\n",
    "dΓ_souce_y0= Measure(Γ_source_y0,2)\n",
    "\n",
    "Γ_source_yL = BoundaryTriangulation(model,tags=\"fuente_yL\")\n",
    "dΓ_souce_yL= Measure(Γ_source_yL,2)\n",
    "\n",
    "Γ_source_x0 = BoundaryTriangulation(model,tags=\"fuente_x0\")\n",
    "dΓ_souce_x0= Measure(Γ_source_x0,2)\n",
    "\n",
    "Γ_source_xL = BoundaryTriangulation(model,tags=\"fuente_xL\")\n",
    "dΓ_souce_xL= Measure(Γ_source_xL,2)\n",
    "#n_source = get_normal_vector(Γ_source_up)\n",
    "\n",
    "Γ_ext = BoundaryTriangulation(model,tags=\"ext\")\n",
    "dΓ_ext= Measure(Γ_ext,2)"
   ]
  },
  {
   "cell_type": "markdown",
   "id": "08899821-8f92-4608-ba99-427eb0e823fb",
   "metadata": {},
   "source": [
    "We set the laboratory ambient temperature to 25 °C."
   ]
  },
  {
   "cell_type": "code",
   "execution_count": 21,
   "id": "458c853b-dda0-48ff-89e4-13eb39a093ec",
   "metadata": {},
   "outputs": [
    {
     "data": {
      "text/plain": [
       "TransientTrialFESpace{UnconstrainedFESpace{Vector{Float64}, Gridap.FESpaces.NodeToDofGlue{Int32}}, TrialFESpace{UnconstrainedFESpace{Vector{Float64}, Gridap.FESpaces.NodeToDofGlue{Int32}}}}(UnconstrainedFESpace(), g, TrialFESpace())"
      ]
     },
     "execution_count": 21,
     "metadata": {},
     "output_type": "execute_result"
    }
   ],
   "source": [
    "temp_amb_C = 25\n",
    "temp_amb_K = temp_amb_C + 273.15\n",
    "g(x,t::Real) = temp_amb_K \n",
    "g(t::Real) = x -> g(x,t)\n",
    "U = TransientTrialFESpace(V,g)"
   ]
  },
  {
   "cell_type": "markdown",
   "id": "a5e17179-cf2e-434c-ad2d-a92f4b0aaf7b",
   "metadata": {},
   "source": [
    "Formulacion debil del problema"
   ]
  },
  {
   "cell_type": "code",
   "execution_count": 30,
   "id": "f8a2e247-eb9c-4c06-9314-fe2137dd7f5a",
   "metadata": {},
   "outputs": [
    {
     "data": {
      "text/plain": [
       "0.01994410480349345"
      ]
     },
     "execution_count": 30,
     "metadata": {},
     "output_type": "execute_result"
    }
   ],
   "source": [
    "alpha(t) = 0.000094239 #  Proportional to the thermal diffusivity of aluminum\n",
    "Ay=0.000346\n",
    "Az=0.04152\n",
    "Ax=0.00048\n",
    "potencia_res_un_area = 110 # Power of the resistor per unit area\n",
    "fuente = potencia_res_un_area/229\n",
    "fuente_x= fuente *Ax\n",
    "fuente_y= fuente*Ay\n",
    "fuente_z= fuente*Az\n"
   ]
  },
  {
   "cell_type": "code",
   "execution_count": 32,
   "id": "b519dd84-32bb-44d4-aec7-bcb4aac29016",
   "metadata": {},
   "outputs": [
    {
     "data": {
      "text/plain": [
       "TransientFEOperatorFromWeakForm()"
      ]
     },
     "execution_count": 32,
     "metadata": {},
     "output_type": "execute_result"
    }
   ],
   "source": [
    "res(t,u,v) = ∫( ∂t(u)*v + alpha(t)*(∇(u)⋅∇(v)) )dΩ -∫(v *(fuente_z))*dΓ_souce_up-∫(v * (fuente_z) )*dΓ_souce_down -∫(v * (fuente_y) )*dΓ_souce_yL -∫(v * (fuente_y) )*dΓ_souce_y0 -∫(v * (fuente_x))*dΓ_souce_xL -∫(v * (fuente_x) )*dΓ_souce_x0\n",
    "jac(t,u,du,v) = ∫( alpha(t)*(∇(du)⋅∇(v)) )dΩ\n",
    "jac_t(t,u,duₜ,v) = ∫( duₜ*v )dΩ\n",
    "op = TransientFEOperator(res,jac,jac_t,U,V)"
   ]
  },
  {
   "cell_type": "code",
   "execution_count": 23,
   "id": "c3a005d1-621b-4d16-9021-c823f81481f6",
   "metadata": {},
   "outputs": [
    {
     "data": {
      "text/plain": [
       "LUSolver()"
      ]
     },
     "execution_count": 23,
     "metadata": {},
     "output_type": "execute_result"
    }
   ],
   "source": [
    "linear_solver = LUSolver()\n"
   ]
  },
  {
   "cell_type": "markdown",
   "id": "881ff055-108b-4070-a854-d266d8101ade",
   "metadata": {},
   "source": [
    "The simulation is configured to run from time \n",
    "t=0 to \n",
    "t=10, using a time step of 0.05."
   ]
  },
  {
   "cell_type": "code",
   "execution_count": 24,
   "id": "e0a9dc1a-0e69-419f-b633-b9bbd590302a",
   "metadata": {},
   "outputs": [
    {
     "data": {
      "text/plain": [
       "ThetaMethod()"
      ]
     },
     "execution_count": 24,
     "metadata": {},
     "output_type": "execute_result"
    }
   ],
   "source": [
    "Δt = 0.05\n",
    "θ = 0.5\n",
    "ode_solver = ThetaMethod(linear_solver,Δt,θ)"
   ]
  },
  {
   "cell_type": "code",
   "execution_count": 25,
   "id": "39d60e5b-bba8-41ad-b593-b3184236c9f7",
   "metadata": {},
   "outputs": [
    {
     "data": {
      "text/plain": [
       "Gridap.ODEs.TransientFETools.TransientFESolution(GenericODESolution(), TransientTrialFESpace{UnconstrainedFESpace{Vector{Float64}, Gridap.FESpaces.NodeToDofGlue{Int32}}, TrialFESpace{UnconstrainedFESpace{Vector{Float64}, Gridap.FESpaces.NodeToDofGlue{Int32}}}}(UnconstrainedFESpace(), g, TrialFESpace()))"
      ]
     },
     "execution_count": 25,
     "metadata": {},
     "output_type": "execute_result"
    }
   ],
   "source": [
    "u₀ = interpolate_everywhere(temp_amb_K,U(0.0))\n",
    "t₀ = 0.0\n",
    "T = 10.0\n",
    "uₕₜ = solve(ode_solver,op,u₀,t₀,T)\n"
   ]
  },
  {
   "cell_type": "markdown",
   "id": "c6703074-86d1-4fe2-9ffa-27680b950472",
   "metadata": {},
   "source": [
    "To save the temperature distribution over time and generate a time-lapse (movie), the results are stored in a designated output directory."
   ]
  },
  {
   "cell_type": "code",
   "execution_count": 28,
   "id": "a11853ba-324f-4beb-93da-9bd8f5753f8c",
   "metadata": {},
   "outputs": [],
   "source": [
    "dir = #name of the directoory \"/home/dani/Dani/TAMI_2025/PRUEBA_DIRICH_INFORME_2\"\n",
    "mkpath(dir)\n",
    "\n",
    "createpvd(dir) do pvd\n",
    "        file_0 = dir * \"/solution_0.00.vtu\"\n",
    "        pvd[0.0] = createvtk(Ω, file_0, cellfields=[\"u\" =>u₀])\n",
    "    for (uₕ, t) in uₕₜ\n",
    "        file = dir * \"/solution_$t.vtu\"\n",
    "        pvd[t] = createvtk(Ω, file, cellfields=[\"u\" => uₕ])\n",
    "    end\n",
    "end;"
   ]
  }
 ],
 "metadata": {
  "kernelspec": {
   "display_name": "Julia 1.9.3",
   "language": "julia",
   "name": "julia-1.9"
  },
  "language_info": {
   "file_extension": ".jl",
   "mimetype": "application/julia",
   "name": "julia",
   "version": "1.9.3"
  }
 },
 "nbformat": 4,
 "nbformat_minor": 5
}
